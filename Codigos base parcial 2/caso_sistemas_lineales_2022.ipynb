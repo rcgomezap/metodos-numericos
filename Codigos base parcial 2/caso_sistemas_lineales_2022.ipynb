{
 "cells": [
  {
   "cell_type": "markdown",
   "metadata": {},
   "source": [
    " # SOLUCION DE SISTEMAS DE ECUACIONES LINEALES \n"
   ]
  },
  {
   "cell_type": "markdown",
   "metadata": {},
   "source": [
    "# Métodos Directos"
   ]
  },
  {
   "cell_type": "code",
   "execution_count": 750,
   "metadata": {},
   "outputs": [],
   "source": [
    "import numpy as np\n",
    "import scipy.linalg as scalg"
   ]
  },
  {
   "cell_type": "code",
   "execution_count": 751,
   "metadata": {},
   "outputs": [],
   "source": [
    "A=np.array([[1.,1.,1.],[4.,3.,-1.],[3.,5.,3.]])\n",
    "B=np.array([[1.],[6.],[4.]])"
   ]
  },
  {
   "cell_type": "code",
   "execution_count": 752,
   "metadata": {},
   "outputs": [
    {
     "name": "stdout",
     "output_type": "stream",
     "text": [
      "[[ 1.  1.  1.]\n",
      " [ 4.  3. -1.]\n",
      " [ 3.  5.  3.]]\n"
     ]
    }
   ],
   "source": [
    "print(A)"
   ]
  },
  {
   "cell_type": "code",
   "execution_count": 753,
   "metadata": {},
   "outputs": [
    {
     "name": "stdout",
     "output_type": "stream",
     "text": [
      "[[1.]\n",
      " [6.]\n",
      " [4.]]\n"
     ]
    }
   ],
   "source": [
    "print(B)"
   ]
  },
  {
   "cell_type": "markdown",
   "metadata": {},
   "source": [
    "## Solución calculando la inversa"
   ]
  },
  {
   "cell_type": "code",
   "execution_count": 754,
   "metadata": {},
   "outputs": [
    {
     "name": "stdout",
     "output_type": "stream",
     "text": [
      "[[ 1.40000000e+00  2.00000000e-01 -4.00000000e-01]\n",
      " [-1.50000000e+00  1.51394049e-17  5.00000000e-01]\n",
      " [ 1.10000000e+00 -2.00000000e-01 -1.00000000e-01]]\n"
     ]
    }
   ],
   "source": [
    "#calculo la inversa A\n",
    "Ainv=np.linalg.inv(A)\n",
    "print(Ainv)"
   ]
  },
  {
   "cell_type": "code",
   "execution_count": 755,
   "metadata": {},
   "outputs": [
    {
     "name": "stdout",
     "output_type": "stream",
     "text": [
      "[[ 1. ]\n",
      " [ 0.5]\n",
      " [-0.5]]\n"
     ]
    }
   ],
   "source": [
    "# alternativa solucion 1\n",
    "x=np.matmul(Ainv,B)\n",
    "print(x)"
   ]
  },
  {
   "cell_type": "code",
   "execution_count": 756,
   "metadata": {},
   "outputs": [
    {
     "name": "stdout",
     "output_type": "stream",
     "text": [
      "[[ 1. ]\n",
      " [ 0.5]\n",
      " [-0.5]]\n"
     ]
    }
   ],
   "source": [
    "# alternativa de solucion 2\n",
    "x1=np.dot(Ainv,B)\n",
    "print(x1)"
   ]
  },
  {
   "cell_type": "code",
   "execution_count": 757,
   "metadata": {},
   "outputs": [
    {
     "name": "stdout",
     "output_type": "stream",
     "text": [
      "[[ 1. ]\n",
      " [ 0.5]\n",
      " [-0.5]]\n"
     ]
    }
   ],
   "source": [
    "#alternativa de solucion 3\n",
    "x2=np.linalg.solve(A,B)\n",
    "print(x2)"
   ]
  },
  {
   "cell_type": "markdown",
   "metadata": {},
   "source": [
    "## Solución por Eliminación gaussiana"
   ]
  },
  {
   "cell_type": "code",
   "execution_count": 758,
   "metadata": {},
   "outputs": [],
   "source": [
    "def ForwardElimination(A,b):\n",
    "    n = len(b)\n",
    "    for k in range(0,n-1):\n",
    "        for i in range(k+1,n):\n",
    "            f = A[i,k]/A[k,k]\n",
    "            for j in range(k,n):\n",
    "                A[i,j] = A[i,j] - f*A[k,j]\n",
    "            b[i] = b[i] - f*b[k]\n",
    "    return A,b"
   ]
  },
  {
   "cell_type": "code",
   "execution_count": 759,
   "metadata": {},
   "outputs": [],
   "source": [
    "def BackwardSubstitution(A,b):\n",
    "    n = len(b)\n",
    "    x = np.zeros((n,1),'float')\n",
    "    suma = 0.\n",
    "    x[-1] = b[-1]/A[-1,-1]\n",
    "    for i in range(n-2,-1,-1):\n",
    "        suma = b[i]\n",
    "        for j in range(i+1,n):\n",
    "            suma = suma  - A[i,j]*x[j]\n",
    "        x[i] = suma/A[i,i]\n",
    "    return x"
   ]
  },
  {
   "cell_type": "code",
   "execution_count": 760,
   "metadata": {},
   "outputs": [
    {
     "name": "stdout",
     "output_type": "stream",
     "text": [
      "[[ 1.  1.  1.]\n",
      " [ 4.  3. -1.]\n",
      " [ 3.  5.  3.]]\n"
     ]
    }
   ],
   "source": [
    "print(A)"
   ]
  },
  {
   "cell_type": "code",
   "execution_count": 761,
   "metadata": {},
   "outputs": [
    {
     "name": "stdout",
     "output_type": "stream",
     "text": [
      "[[1.]\n",
      " [6.]\n",
      " [4.]]\n"
     ]
    }
   ],
   "source": [
    "print(B)"
   ]
  },
  {
   "cell_type": "code",
   "execution_count": 762,
   "metadata": {},
   "outputs": [
    {
     "name": "stdout",
     "output_type": "stream",
     "text": [
      "[[ 1.  1.  1.  1.]\n",
      " [ 4.  3. -1.  6.]\n",
      " [ 3.  5.  3.  4.]]\n"
     ]
    }
   ],
   "source": [
    "print(np.hstack((A,B)))"
   ]
  },
  {
   "cell_type": "code",
   "execution_count": 763,
   "metadata": {},
   "outputs": [
    {
     "name": "stdout",
     "output_type": "stream",
     "text": [
      "[[ 1.  1.  1.]\n",
      " [ 4.  3. -1.]\n",
      " [ 3.  5.  3.]\n",
      " [ 1.  6.  4.]]\n"
     ]
    }
   ],
   "source": [
    "print(np.vstack((A,B.T)))"
   ]
  },
  {
   "cell_type": "code",
   "execution_count": 764,
   "metadata": {},
   "outputs": [
    {
     "name": "stdout",
     "output_type": "stream",
     "text": [
      "[[  1.   1.   1.]\n",
      " [  0.  -1.  -5.]\n",
      " [  0.   0. -10.]]\n"
     ]
    }
   ],
   "source": [
    "A1,B1=ForwardElimination(A,B)\n",
    "print(A1)"
   ]
  },
  {
   "cell_type": "code",
   "execution_count": 765,
   "metadata": {},
   "outputs": [
    {
     "name": "stdout",
     "output_type": "stream",
     "text": [
      "[[1.]\n",
      " [2.]\n",
      " [5.]]\n"
     ]
    }
   ],
   "source": [
    "print(B1)"
   ]
  },
  {
   "cell_type": "code",
   "execution_count": 766,
   "metadata": {},
   "outputs": [
    {
     "data": {
      "text/plain": [
       "array([[ 1. ],\n",
       "       [ 0.5],\n",
       "       [-0.5]])"
      ]
     },
     "execution_count": 766,
     "metadata": {},
     "output_type": "execute_result"
    }
   ],
   "source": [
    "BackwardSubstitution(A1,B1)"
   ]
  },
  {
   "cell_type": "markdown",
   "metadata": {},
   "source": [
    "##  LU decomposition"
   ]
  },
  {
   "cell_type": "code",
   "execution_count": 767,
   "metadata": {},
   "outputs": [],
   "source": [
    "A=np.array([[1.,1.,1.],[4.,3.,-1.],[3.,5.,3.]])\n",
    "B=np.array([[1.],[6.],[4.]])\n",
    "#alternativa de solucion 1\n",
    "P,L,U=scalg.lu(A)"
   ]
  },
  {
   "cell_type": "code",
   "execution_count": 768,
   "metadata": {},
   "outputs": [
    {
     "name": "stdout",
     "output_type": "stream",
     "text": [
      "[[1.         0.         0.        ]\n",
      " [0.75       1.         0.        ]\n",
      " [0.25       0.09090909 1.        ]]\n"
     ]
    }
   ],
   "source": [
    "print(L)"
   ]
  },
  {
   "cell_type": "code",
   "execution_count": 769,
   "metadata": {},
   "outputs": [
    {
     "name": "stdout",
     "output_type": "stream",
     "text": [
      "[[ 4.          3.         -1.        ]\n",
      " [ 0.          2.75        3.75      ]\n",
      " [ 0.          0.          0.90909091]]\n"
     ]
    }
   ],
   "source": [
    "print(U)"
   ]
  },
  {
   "cell_type": "code",
   "execution_count": 770,
   "metadata": {},
   "outputs": [
    {
     "name": "stdout",
     "output_type": "stream",
     "text": [
      "[[0. 0. 1.]\n",
      " [1. 0. 0.]\n",
      " [0. 1. 0.]]\n"
     ]
    }
   ],
   "source": [
    "print(P)"
   ]
  },
  {
   "cell_type": "code",
   "execution_count": 771,
   "metadata": {},
   "outputs": [
    {
     "name": "stdout",
     "output_type": "stream",
     "text": [
      "[[1.        ]\n",
      " [5.25      ]\n",
      " [3.27272727]]\n"
     ]
    }
   ],
   "source": [
    "y=np.linalg.solve(L,B)\n",
    "print(y)"
   ]
  },
  {
   "cell_type": "code",
   "execution_count": 772,
   "metadata": {},
   "outputs": [
    {
     "name": "stdout",
     "output_type": "stream",
     "text": [
      "[[ 3.4]\n",
      " [-3. ]\n",
      " [ 3.6]]\n"
     ]
    }
   ],
   "source": [
    "x3=np.linalg.solve(U,y)\n",
    "print(x3)"
   ]
  },
  {
   "cell_type": "code",
   "execution_count": 773,
   "metadata": {},
   "outputs": [
    {
     "name": "stdout",
     "output_type": "stream",
     "text": [
      "(array([[ 4.        ,  3.        , -1.        ],\n",
      "       [ 0.75      ,  2.75      ,  3.75      ],\n",
      "       [ 0.25      ,  0.09090909,  0.90909091]]), array([1, 2, 2], dtype=int32))\n"
     ]
    }
   ],
   "source": [
    "#alternativa de solucion 2\n",
    "LU=scalg.lu_factor(A)\n",
    "print(LU)"
   ]
  },
  {
   "cell_type": "code",
   "execution_count": 774,
   "metadata": {},
   "outputs": [
    {
     "name": "stdout",
     "output_type": "stream",
     "text": [
      "x: [[ 1. ]\n",
      " [ 0.5]\n",
      " [-0.5]]\n"
     ]
    }
   ],
   "source": [
    "x=scalg.lu_solve(LU,B)\n",
    "print('x:',x)"
   ]
  },
  {
   "cell_type": "code",
   "execution_count": null,
   "metadata": {},
   "outputs": [],
   "source": []
  },
  {
   "cell_type": "markdown",
   "metadata": {},
   "source": [
    "## Cholesky\n",
    "\n",
    "Si A es simétrica y definida positiva."
   ]
  },
  {
   "cell_type": "code",
   "execution_count": 775,
   "metadata": {},
   "outputs": [
    {
     "name": "stdout",
     "output_type": "stream",
     "text": [
      "[[ 1.  1.  1.]\n",
      " [ 4.  3. -1.]\n",
      " [ 3.  5.  3.]]\n"
     ]
    }
   ],
   "source": [
    "print(A)"
   ]
  },
  {
   "cell_type": "code",
   "execution_count": 776,
   "metadata": {},
   "outputs": [
    {
     "name": "stdout",
     "output_type": "stream",
     "text": [
      "chequeo positiva definida\n",
      "d1: 1.0\n",
      "d2: -1.0\n",
      "d3: 10.0\n"
     ]
    }
   ],
   "source": [
    "#chequeo de positiva definida\n",
    "d1=scalg.det([[1]])\n",
    "d2=scalg.det([[1.,1.],[4.,3.]])\n",
    "d3=scalg.det(A)\n",
    "print('chequeo positiva definida')\n",
    "print('d1:',d1)\n",
    "print('d2:',d2)\n",
    "print('d3:',d3)"
   ]
  },
  {
   "cell_type": "markdown",
   "metadata": {},
   "source": [
    "### otro ejemplo para probar Cholesky "
   ]
  },
  {
   "cell_type": "code",
   "execution_count": 777,
   "metadata": {},
   "outputs": [],
   "source": [
    "\n",
    "A=np.array([[4,2,14],[2,17,-5],[14,-5,83]])\n",
    "\n",
    "B=np.array([[14],[-101],[155]])"
   ]
  },
  {
   "cell_type": "code",
   "execution_count": 778,
   "metadata": {},
   "outputs": [
    {
     "name": "stdout",
     "output_type": "stream",
     "text": [
      "Matriz A:\n",
      " [[ 4  2 14]\n",
      " [ 2 17 -5]\n",
      " [14 -5 83]]\n",
      "L Cholesky:\n",
      " [[ 2.  0.  0.]\n",
      " [ 1.  4.  0.]\n",
      " [ 7. -3.  5.]]\n",
      "U Cholesky:\n",
      " [[ 2.  1.  7.]\n",
      " [ 0.  4. -3.]\n",
      " [ 0.  0.  5.]]\n"
     ]
    }
   ],
   "source": [
    "L=scalg.cholesky(A,lower=True)\n",
    "U=scalg.cholesky(A,lower=False)\n",
    "\n",
    "print('Matriz A:\\n',A)\n",
    "print('L Cholesky:\\n',L)\n",
    "print('U Cholesky:\\n',U)"
   ]
  },
  {
   "cell_type": "code",
   "execution_count": 779,
   "metadata": {},
   "outputs": [
    {
     "name": "stdout",
     "output_type": "stream",
     "text": [
      "Solucion Cholesky:\n",
      " [[ 3.]\n",
      " [-6.]\n",
      " [ 1.]]\n"
     ]
    }
   ],
   "source": [
    "#Solucion de dos sistemas triangulares\n",
    "y=scalg.solve(L,B)\n",
    "x=scalg.solve(U,y)\n",
    "\n",
    "print('Solucion Cholesky:\\n',x)"
   ]
  },
  {
   "cell_type": "code",
   "execution_count": 780,
   "metadata": {},
   "outputs": [
    {
     "name": "stdout",
     "output_type": "stream",
     "text": [
      "[[ 3.]\n",
      " [-6.]\n",
      " [ 1.]]\n"
     ]
    }
   ],
   "source": [
    "#verificacion\n",
    "x=scalg.solve(A,B)\n",
    "print(x)"
   ]
  },
  {
   "cell_type": "markdown",
   "metadata": {},
   "source": [
    "# Métodos Iterativos: Jacobi y Gauss-Seidel"
   ]
  },
  {
   "cell_type": "code",
   "execution_count": 781,
   "metadata": {},
   "outputs": [],
   "source": [
    "import numpy as np\n",
    "A=np.array([[4.,-1.,2.],[2.,5.,1.],[1.,1.,-3.]])\n",
    "\n",
    "B=np.array([[-12.],[5.],[-4.]])"
   ]
  },
  {
   "cell_type": "code",
   "execution_count": 782,
   "metadata": {},
   "outputs": [
    {
     "name": "stdout",
     "output_type": "stream",
     "text": [
      "[[ 4. -1.  2.]\n",
      " [ 2.  5.  1.]\n",
      " [ 1.  1. -3.]]\n"
     ]
    }
   ],
   "source": [
    "print(A)"
   ]
  },
  {
   "cell_type": "code",
   "execution_count": 783,
   "metadata": {},
   "outputs": [
    {
     "data": {
      "text/plain": [
       "array([ 4.,  5., -3.])"
      ]
     },
     "execution_count": 783,
     "metadata": {},
     "output_type": "execute_result"
    }
   ],
   "source": [
    "np.diag(A)"
   ]
  },
  {
   "cell_type": "code",
   "execution_count": 784,
   "metadata": {},
   "outputs": [
    {
     "name": "stdout",
     "output_type": "stream",
     "text": [
      "[[ 4.  0.  0.]\n",
      " [ 0.  5.  0.]\n",
      " [ 0.  0. -3.]]\n"
     ]
    }
   ],
   "source": [
    "D=np.diag(np.diag(A))\n",
    "print(D)"
   ]
  },
  {
   "cell_type": "code",
   "execution_count": 785,
   "metadata": {},
   "outputs": [
    {
     "name": "stdout",
     "output_type": "stream",
     "text": [
      "[[0. 0. 0.]\n",
      " [2. 0. 0.]\n",
      " [1. 1. 0.]]\n"
     ]
    }
   ],
   "source": [
    "L=np.tril(A,k=-1)\n",
    "print(L)    "
   ]
  },
  {
   "cell_type": "code",
   "execution_count": 786,
   "metadata": {},
   "outputs": [
    {
     "name": "stdout",
     "output_type": "stream",
     "text": [
      "[[ 0. -1.  2.]\n",
      " [ 0.  0.  1.]\n",
      " [ 0.  0.  0.]]\n"
     ]
    }
   ],
   "source": [
    "U=np.triu(A,k=1)\n",
    "print(U)"
   ]
  },
  {
   "cell_type": "code",
   "execution_count": 787,
   "metadata": {},
   "outputs": [],
   "source": [
    "#Metodo de Jacobi - forma matricial\n",
    "iter=0\n",
    "tolerancia=1e-3 #equivale a 0.001\n",
    "error=1.0\n",
    "\n",
    "xold=np.array([[0.],[0.],[0.]])\n",
    "\n",
    "n=len(B) #calcula el tamaño vector B\n",
    "xnew=np.zeros(n)\n",
    "\n",
    "while error>=tolerancia:\n",
    "    cj=np.matmul(-np.linalg.inv(D),(L+U))\n",
    "        \n",
    "    dj=np.matmul(np.linalg.inv(D),B)\n",
    "        \n",
    "    xnew=np.matmul(cj,xold)+dj\n",
    "        \n",
    "    error=np.linalg.norm(xnew-xold,2) #error con la norma euclidea\n",
    "        \n",
    "    iter+=1\n",
    "        \n",
    "    xold=xnew   #actualizando el xold"
   ]
  },
  {
   "cell_type": "code",
   "execution_count": 788,
   "metadata": {},
   "outputs": [
    {
     "name": "stdout",
     "output_type": "stream",
     "text": [
      "Programa metodo Jacobi de manera matricial AX=B\n",
      "+++++++++++++++++++++\n",
      "Matriz A:\n",
      " [[ 4. -1.  2.]\n",
      " [ 2.  5.  1.]\n",
      " [ 1.  1. -3.]]\n",
      "Matriz B:\n",
      " [[-12.]\n",
      " [  5.]\n",
      " [ -4.]]\n",
      "tolerancia: 0.001\n",
      "+++++++++++++++++++++\n",
      "solucion:\n",
      " [[-3.00016239]\n",
      " [ 1.99972205]\n",
      " [ 1.00018563]]\n",
      "Numero iteraciones: 16\n"
     ]
    }
   ],
   "source": [
    "print('Programa metodo Jacobi de manera matricial AX=B')\n",
    "print('+++++++++++++++++++++')\n",
    "\n",
    "print('Matriz A:\\n',A)\n",
    "print('Matriz B:\\n',B)\n",
    "\n",
    "print('tolerancia:',tol)\n",
    "\n",
    "print('+++++++++++++++++++++')\n",
    "print('solucion:\\n',xnew)\n",
    "\n",
    "print('Numero iteraciones:',iter)"
   ]
  },
  {
   "cell_type": "code",
   "execution_count": 789,
   "metadata": {},
   "outputs": [
    {
     "name": "stdout",
     "output_type": "stream",
     "text": [
      "0.0007695239271969423\n"
     ]
    }
   ],
   "source": [
    "print(error)"
   ]
  },
  {
   "cell_type": "code",
   "execution_count": 790,
   "metadata": {},
   "outputs": [
    {
     "name": "stdout",
     "output_type": "stream",
     "text": [
      "0.001\n"
     ]
    }
   ],
   "source": [
    "print(tolerancia)"
   ]
  },
  {
   "cell_type": "code",
   "execution_count": null,
   "metadata": {},
   "outputs": [],
   "source": []
  }
 ],
 "metadata": {
  "kernelspec": {
   "display_name": "Python 3 (ipykernel)",
   "language": "python",
   "name": "python3"
  },
  "language_info": {
   "codemirror_mode": {
    "name": "ipython",
    "version": 3
   },
   "file_extension": ".py",
   "mimetype": "text/x-python",
   "name": "python",
   "nbconvert_exporter": "python",
   "pygments_lexer": "ipython3",
   "version": "3.9.12"
  }
 },
 "nbformat": 4,
 "nbformat_minor": 4
}
