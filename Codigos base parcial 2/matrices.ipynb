{
 "cells": [
  {
   "cell_type": "markdown",
   "id": "dbca3638",
   "metadata": {},
   "source": [
    "# Solucion de sistemas de ecuaciones lineales\n",
    "\n",
    "## Metodos directos"
   ]
  },
  {
   "cell_type": "code",
   "execution_count": 56,
   "id": "e081d383",
   "metadata": {},
   "outputs": [],
   "source": [
    "import numpy as np\n",
    "import scipy.linalg as scy"
   ]
  },
  {
   "cell_type": "code",
   "execution_count": 57,
   "id": "b068d22f",
   "metadata": {},
   "outputs": [
    {
     "name": "stdout",
     "output_type": "stream",
     "text": [
      "[[ 2  4  6]\n",
      " [ 4  5  6]\n",
      " [ 3  1 -2]]\n"
     ]
    }
   ],
   "source": [
    "A=np.array([[2,4,6],[4,5,6],[3,1,-2]])\n",
    "print(A)"
   ]
  },
  {
   "cell_type": "code",
   "execution_count": 58,
   "id": "22bda084",
   "metadata": {},
   "outputs": [
    {
     "name": "stdout",
     "output_type": "stream",
     "text": [
      "[[18]\n",
      " [24]\n",
      " [ 4]]\n"
     ]
    }
   ],
   "source": [
    "B=np.array([[18],[24],[4]])\n",
    "print(B)"
   ]
  },
  {
   "cell_type": "markdown",
   "id": "b3ff67e9",
   "metadata": {},
   "source": [
    "## Determinante de una matriz"
   ]
  },
  {
   "cell_type": "code",
   "execution_count": 59,
   "id": "8d3c45d6",
   "metadata": {
    "scrolled": false
   },
   "outputs": [
    {
     "name": "stdout",
     "output_type": "stream",
     "text": [
      "5.999999999999997\n"
     ]
    }
   ],
   "source": [
    "determinanteA=np.linalg.det(A)\n",
    "print(determinanteA)"
   ]
  },
  {
   "cell_type": "markdown",
   "id": "7ccc413d",
   "metadata": {},
   "source": [
    "## Inversa"
   ]
  },
  {
   "cell_type": "code",
   "execution_count": 60,
   "id": "19c601e1",
   "metadata": {
    "scrolled": false
   },
   "outputs": [
    {
     "name": "stdout",
     "output_type": "stream",
     "text": [
      "[[-2.66666667  2.33333333 -1.        ]\n",
      " [ 4.33333333 -3.66666667  2.        ]\n",
      " [-1.83333333  1.66666667 -1.        ]]\n"
     ]
    }
   ],
   "source": [
    "inversaA=np.linalg.inv(A)\n",
    "print(inversaA)"
   ]
  },
  {
   "cell_type": "markdown",
   "id": "eb50abb1",
   "metadata": {},
   "source": [
    "## Solucion del sistema AX=B opcion 1"
   ]
  },
  {
   "cell_type": "code",
   "execution_count": 61,
   "id": "16a75edb",
   "metadata": {
    "scrolled": true
   },
   "outputs": [
    {
     "name": "stdout",
     "output_type": "stream",
     "text": [
      "[[ 4.]\n",
      " [-2.]\n",
      " [ 3.]]\n"
     ]
    }
   ],
   "source": [
    "x=np.matmul(inversaA,B)\n",
    "print(x)"
   ]
  },
  {
   "cell_type": "markdown",
   "id": "346ffaaf",
   "metadata": {},
   "source": [
    "## Solucion del sistema AX=B opcion 2"
   ]
  },
  {
   "cell_type": "code",
   "execution_count": 62,
   "id": "edcaf957",
   "metadata": {
    "scrolled": false
   },
   "outputs": [
    {
     "name": "stdout",
     "output_type": "stream",
     "text": [
      "[[ 4.]\n",
      " [-2.]\n",
      " [ 3.]]\n"
     ]
    }
   ],
   "source": [
    "x=np.dot(inversaA,B)\n",
    "print(x)"
   ]
  },
  {
   "cell_type": "markdown",
   "id": "b47d6d06",
   "metadata": {},
   "source": [
    "## Producto matriz por escalar"
   ]
  },
  {
   "cell_type": "code",
   "execution_count": 63,
   "id": "c2157ab6",
   "metadata": {
    "scrolled": true
   },
   "outputs": [
    {
     "data": {
      "text/plain": [
       "array([[ 4,  8, 12],\n",
       "       [ 8, 10, 12],\n",
       "       [ 6,  2, -4]])"
      ]
     },
     "execution_count": 63,
     "metadata": {},
     "output_type": "execute_result"
    }
   ],
   "source": [
    "alpha=2\n",
    "alpha*A"
   ]
  },
  {
   "cell_type": "markdown",
   "id": "cab7737e",
   "metadata": {},
   "source": [
    "## Diagonal de una matriz"
   ]
  },
  {
   "cell_type": "code",
   "execution_count": 64,
   "id": "04590ffc",
   "metadata": {
    "scrolled": false
   },
   "outputs": [
    {
     "name": "stdout",
     "output_type": "stream",
     "text": [
      "[[ 2  0  0]\n",
      " [ 0  5  0]\n",
      " [ 0  0 -2]]\n"
     ]
    }
   ],
   "source": [
    "diagonal=np.diag(np.diag(A))\n",
    "print(diagonal)"
   ]
  },
  {
   "cell_type": "code",
   "execution_count": 65,
   "id": "cef3b1e8",
   "metadata": {
    "scrolled": false
   },
   "outputs": [
    {
     "name": "stdout",
     "output_type": "stream",
     "text": [
      "[4 6]\n"
     ]
    }
   ],
   "source": [
    "diagonal=np.diag(A,k=1) #la k te dice que numero de diagonal coger np.gsus(A)\n",
    "print(diagonal)"
   ]
  },
  {
   "cell_type": "code",
   "execution_count": 66,
   "id": "fc83dd29",
   "metadata": {
    "scrolled": false
   },
   "outputs": [
    {
     "name": "stdout",
     "output_type": "stream",
     "text": [
      "[4 1]\n"
     ]
    }
   ],
   "source": [
    "diagonal=np.diag(A,k=-1)\n",
    "print(diagonal)"
   ]
  },
  {
   "cell_type": "markdown",
   "id": "a38369b2",
   "metadata": {},
   "source": [
    "## Triangular"
   ]
  },
  {
   "cell_type": "code",
   "execution_count": 67,
   "id": "c690f09d",
   "metadata": {},
   "outputs": [
    {
     "data": {
      "text/plain": [
       "array([[ 2,  4,  6],\n",
       "       [ 0,  5,  6],\n",
       "       [ 0,  0, -2]])"
      ]
     },
     "execution_count": 67,
     "metadata": {},
     "output_type": "execute_result"
    }
   ],
   "source": [
    "np.triu(A)"
   ]
  },
  {
   "cell_type": "code",
   "execution_count": 68,
   "id": "f9b7ba15",
   "metadata": {
    "scrolled": true
   },
   "outputs": [
    {
     "data": {
      "text/plain": [
       "array([[ 2,  0,  0],\n",
       "       [ 4,  5,  0],\n",
       "       [ 3,  1, -2]])"
      ]
     },
     "execution_count": 68,
     "metadata": {},
     "output_type": "execute_result"
    }
   ],
   "source": [
    "np.tril(A)"
   ]
  },
  {
   "cell_type": "markdown",
   "id": "0edcf6ee",
   "metadata": {},
   "source": [
    "## Matrices aleatorias"
   ]
  },
  {
   "cell_type": "code",
   "execution_count": 70,
   "id": "b66e5bcf",
   "metadata": {
    "scrolled": true
   },
   "outputs": [
    {
     "name": "stdout",
     "output_type": "stream",
     "text": [
      "[[2.29709084 2.34267417 5.10731146 2.76831788 6.98264892]\n",
      " [0.69288814 1.19489183 5.11193355 6.81333678 1.15557256]\n",
      " [6.34541175 9.31931911 4.60929163 9.10976679 7.65888129]\n",
      " [8.85319352 6.00774374 3.86808639 3.00618704 8.82434925]\n",
      " [2.76647324 0.46641199 4.61996198 0.9175101  6.08729586]]\n"
     ]
    }
   ],
   "source": [
    "AA=np.random.rand(5,5)*10\n",
    "print(AA)"
   ]
  },
  {
   "cell_type": "code",
   "execution_count": null,
   "id": "d49b12a3",
   "metadata": {},
   "outputs": [],
   "source": []
  }
 ],
 "metadata": {
  "kernelspec": {
   "display_name": "Python 3",
   "language": "python",
   "name": "python3"
  },
  "language_info": {
   "codemirror_mode": {
    "name": "ipython",
    "version": 3
   },
   "file_extension": ".py",
   "mimetype": "text/x-python",
   "name": "python",
   "nbconvert_exporter": "python",
   "pygments_lexer": "ipython3",
   "version": "3.8.8"
  }
 },
 "nbformat": 4,
 "nbformat_minor": 5
}
