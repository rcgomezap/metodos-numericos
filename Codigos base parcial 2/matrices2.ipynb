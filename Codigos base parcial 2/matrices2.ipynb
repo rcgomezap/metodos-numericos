{
 "cells": [
  {
   "cell_type": "markdown",
   "id": "d49adcc3",
   "metadata": {},
   "source": [
    "## LU Decomposition"
   ]
  },
  {
   "cell_type": "code",
   "execution_count": 41,
   "id": "f4208b5a",
   "metadata": {},
   "outputs": [],
   "source": [
    "import numpy as np\n",
    "import scipy.linalg as scy"
   ]
  },
  {
   "cell_type": "code",
   "execution_count": 42,
   "id": "1ecd87ad",
   "metadata": {},
   "outputs": [],
   "source": [
    "A=np.array([[2,4,6],[4,5,6],[3,1,-2]])\n",
    "B=np.array([[18],[24],[4]])\n",
    "P,L,U=scy.lu(A)"
   ]
  },
  {
   "cell_type": "code",
   "execution_count": 43,
   "id": "7e1e2ddf",
   "metadata": {},
   "outputs": [
    {
     "name": "stdout",
     "output_type": "stream",
     "text": [
      "[[0. 0. 1.]\n",
      " [1. 0. 0.]\n",
      " [0. 1. 0.]]\n"
     ]
    }
   ],
   "source": [
    "print(P)"
   ]
  },
  {
   "cell_type": "code",
   "execution_count": 44,
   "id": "187a3ba2",
   "metadata": {},
   "outputs": [
    {
     "name": "stdout",
     "output_type": "stream",
     "text": [
      "[[ 1.          0.          0.        ]\n",
      " [ 0.75        1.          0.        ]\n",
      " [ 0.5        -0.54545455  1.        ]]\n"
     ]
    }
   ],
   "source": [
    "print(L)"
   ]
  },
  {
   "cell_type": "code",
   "execution_count": 45,
   "id": "9ea4e4bf",
   "metadata": {},
   "outputs": [
    {
     "name": "stdout",
     "output_type": "stream",
     "text": [
      "[[ 4.          5.          6.        ]\n",
      " [ 0.         -2.75       -6.5       ]\n",
      " [ 0.          0.         -0.54545455]]\n"
     ]
    }
   ],
   "source": [
    "print(U)"
   ]
  },
  {
   "cell_type": "code",
   "execution_count": 46,
   "id": "50b34b3c",
   "metadata": {},
   "outputs": [
    {
     "name": "stdout",
     "output_type": "stream",
     "text": [
      "[[18.        ]\n",
      " [10.5       ]\n",
      " [ 0.72727273]]\n"
     ]
    }
   ],
   "source": [
    "y=np.linalg.solve(L,B)\n",
    "print(y)"
   ]
  },
  {
   "cell_type": "code",
   "execution_count": 47,
   "id": "647353b5",
   "metadata": {},
   "outputs": [
    {
     "name": "stdout",
     "output_type": "stream",
     "text": [
      "[[ 7.33333333]\n",
      " [-0.66666667]\n",
      " [-1.33333333]]\n"
     ]
    }
   ],
   "source": [
    "x=np.linalg.solve(U,y)\n",
    "print(x)"
   ]
  }
 ],
 "metadata": {
  "kernelspec": {
   "display_name": "Python 3",
   "language": "python",
   "name": "python3"
  },
  "language_info": {
   "codemirror_mode": {
    "name": "ipython",
    "version": 3
   },
   "file_extension": ".py",
   "mimetype": "text/x-python",
   "name": "python",
   "nbconvert_exporter": "python",
   "pygments_lexer": "ipython3",
   "version": "3.8.8"
  }
 },
 "nbformat": 4,
 "nbformat_minor": 5
}
